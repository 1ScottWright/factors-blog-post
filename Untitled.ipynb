{
 "cells": [
  {
   "cell_type": "markdown",
   "metadata": {},
   "source": [
    "### Potential Interview Question\n",
    "#### What is the smallest number that is evenly divisible by all of the digits in [1, x]."
   ]
  },
  {
   "cell_type": "code",
   "execution_count": 21,
   "metadata": {},
   "outputs": [],
   "source": [
    "import numpy as np\n",
    "import math\n",
    "import time"
   ]
  },
  {
   "cell_type": "code",
   "execution_count": 18,
   "metadata": {},
   "outputs": [],
   "source": [
    "# First lets get the smallest number divisible by the digits in [1,x] without any additional information.\n",
    "\n",
    "'''\n",
    "Initial thoughts:\n",
    "output number <= x!\n",
    "output number >= 1\n",
    "output number is an integer\n",
    "output number is some factorization of prime numbers\n",
    "if the range is [1,4] then the number 2 isn't needed since it is covered in 4 == 2^2, so\n",
    "    the smallest number is 1 * 3 * 4 = 12.   (btw, 4! = 24)\n",
    "if the range is [1,8], then the numbers 2 and 4 are not needed because 8 == 2^3, and 3 isn't needed because 6 covers it\n",
    "if the range is [1,9], then 8 covers 2 & 4, and 9 covers 3, so the output number is 1 * 5 * 7 * 8 * 9.\n",
    "\n",
    "let's look again:\n",
    "[1,2] ==> 1 * 2 = 2\n",
    "[1,3] ==> 1 * 2 * 3 = 6\n",
    "[1,4] ==> 1 * 2 * 3 * 2^2 ==> don't need 2^1 ==> 12\n",
    "[1,5] ==> 1 * _ * 3 * 2^2 * 5 ==> 60\n",
    "[1,6] ==> 1 * _ * 3 * (2^2) * 5 * (2*3) ==> don't need 3 ==> 1 * _ * _ * 4 * 5 * 6 = 120\n",
    "[1,7] ==> same as above * 7 = 840\n",
    "[1,8] ==> 1 * _ * _ * (2^2) * 5 * (2*3) * 7 * 2^3 ==> 1 * _ * _ * _ * 5 * 3 * 7 * 8 = 840\n",
    "\n",
    "Can work your way backward and knock out any values that are contained in the factorization of x.\n",
    "[1,10] ==> 10 (can eliminate 5 & 2) * 9 (can eliminate 3) * 8 (can eliminate 2 & 4 & 6 & 2 from 10) * 7 * _ * _ * _ * _ * _ * 1\n",
    "       ==> 5 * 9 * 8 * 7 = 2520\n",
    "       \n",
    "Could check every number between 1 and x! to see if number % divisors == 0\n",
    "\n",
    "'''\n",
    "\n",
    "\n",
    "# let's do brute force first\n",
    "# if you check all numbers from 1 to x!, then there will be at least one value (x!) that works\n",
    "# you can stop when you find the first value since it is the smallest\n",
    "\n",
    "def brute_force(x):\n",
    "    factors = range(1,x+1)\n",
    "    out = []\n",
    "    for i in range(1, 1+math.factorial(x)):\n",
    "        flag = True\n",
    "        for j in range (1, x+1):\n",
    "            if i%j !=0:\n",
    "                flag = False\n",
    "        if flag:\n",
    "            out.append(i)  \n",
    "    return(min(out))"
   ]
  },
  {
   "cell_type": "code",
   "execution_count": 37,
   "metadata": {},
   "outputs": [
    {
     "name": "stdout",
     "output_type": "stream",
     "text": [
      "n =  2 results in \t 2  was calculated in  5.9604644775390625e-06  seconds\n",
      "n =  3 results in \t 6  was calculated in  7.867813110351562e-06  seconds\n",
      "n =  4 results in \t 12  was calculated in  1.5020370483398438e-05  seconds\n",
      "n =  5 results in \t 60  was calculated in  9.965896606445312e-05  seconds\n",
      "n =  6 results in \t 60  was calculated in  0.00045013427734375  seconds\n",
      "n =  7 results in \t 420  was calculated in  0.004088163375854492  seconds\n",
      "n =  8 results in \t 840  was calculated in  0.029872894287109375  seconds\n",
      "n =  9 results in \t 2520  was calculated in  0.2628448009490967  seconds\n",
      "n =  10 results in \t 2520  was calculated in  2.7140002250671387  seconds\n",
      "n =  11 results in \t 27720  was calculated in  31.99763512611389  seconds\n",
      "n =  12 results in \t 27720  was calculated in  410.8576109409332  seconds\n"
     ]
    }
   ],
   "source": [
    "for n in range(2, 13):\n",
    "    begin_time = time.time()\n",
    "    print('n = ', n, 'results in \\t', brute_force(n), ' was calculated in ', time.time() - begin_time, ' seconds')\n",
    "\n"
   ]
  },
  {
   "cell_type": "markdown",
   "metadata": {},
   "source": [
    "#### We can see that the result is computationally inefficient.  Time to complete is increasing by a factor of 10 for each increment.\n",
    "> For the next step, let's try to make the brute force code above more efficient.  The first thing that comes to mind is that the program can stop once the first factor is found"
   ]
  },
  {
   "cell_type": "code",
   "execution_count": 34,
   "metadata": {},
   "outputs": [],
   "source": [
    "def brute_force2(x):\n",
    "    factors = range(1,x+1)\n",
    "    out = []\n",
    "    for i in range(1, 1+math.factorial(x)):\n",
    "        flag = True\n",
    "        for j in range (1, x+1):\n",
    "            if i%j !=0:\n",
    "                flag = False\n",
    "        if flag:\n",
    "            return(i) \n",
    "    pass                                           # should never get here"
   ]
  },
  {
   "cell_type": "code",
   "execution_count": 36,
   "metadata": {},
   "outputs": [
    {
     "name": "stdout",
     "output_type": "stream",
     "text": [
      "n =  2 results in \t 2  was calculated in  5.0067901611328125e-06  seconds\n",
      "n =  3 results in \t 6  was calculated in  1.6927719116210938e-05  seconds\n",
      "n =  4 results in \t 12  was calculated in  1.0013580322265625e-05  seconds\n",
      "n =  5 results in \t 60  was calculated in  3.695487976074219e-05  seconds\n",
      "n =  6 results in \t 60  was calculated in  4.1961669921875e-05  seconds\n",
      "n =  7 results in \t 420  was calculated in  0.0002868175506591797  seconds\n",
      "n =  8 results in \t 840  was calculated in  0.0005869865417480469  seconds\n",
      "n =  9 results in \t 2520  was calculated in  0.0018050670623779297  seconds\n",
      "n =  10 results in \t 2520  was calculated in  0.00189208984375  seconds\n",
      "n =  11 results in \t 27720  was calculated in  0.025043964385986328  seconds\n",
      "n =  12 results in \t 27720  was calculated in  0.02486705780029297  seconds\n",
      "n =  13 results in \t 360360  was calculated in  0.3320488929748535  seconds\n",
      "n =  14 results in \t 360360  was calculated in  0.35198116302490234  seconds\n",
      "n =  15 results in \t 360360  was calculated in  0.37421584129333496  seconds\n",
      "n =  16 results in \t 720720  was calculated in  0.7593908309936523  seconds\n",
      "n =  17 results in \t 12252240  was calculated in  13.304220914840698  seconds\n",
      "n =  18 results in \t 12252240  was calculated in  14.030129194259644  seconds\n",
      "n =  19 results in \t 232792560  was calculated in  277.6459879875183  seconds\n"
     ]
    }
   ],
   "source": [
    "for n in range(2, 20):\n",
    "    begin_time = time.time()\n",
    "    print('n = ', n, 'results in \\t', brute_force2(n), ' was calculated in ', time.time() - begin_time, ' seconds')\n",
    "\n"
   ]
  },
  {
   "cell_type": "markdown",
   "metadata": {},
   "source": [
    "---\n",
    "\n",
    "> Performance is much better, but still really slow once n >= 17\n"
   ]
  },
  {
   "cell_type": "markdown",
   "metadata": {},
   "source": [
    "---\n",
    "> We do know that the output number must be >= x.  This could improve speeds a bit, but not much."
   ]
  },
  {
   "cell_type": "code",
   "execution_count": 38,
   "metadata": {},
   "outputs": [],
   "source": [
    "def brute_force3(x):\n",
    "    factors = range(1,x+1)\n",
    "    out = []\n",
    "    for i in range(x, 1+math.factorial(x)):\n",
    "        flag = True\n",
    "        for j in range (1, x+1):\n",
    "            if i%j !=0:\n",
    "                flag = False\n",
    "        if flag:\n",
    "            return(i) \n",
    "    pass      "
   ]
  },
  {
   "cell_type": "code",
   "execution_count": 40,
   "metadata": {},
   "outputs": [
    {
     "name": "stdout",
     "output_type": "stream",
     "text": [
      "n =  18 results in \t 12252240  was calculated in \t 13.776421785354614  seconds\n",
      "n =  19 results in \t 232792560  was calculated in \t 275.6329720020294  seconds\n"
     ]
    }
   ],
   "source": [
    "for n in range(18, 20):\n",
    "    begin_time = time.time()\n",
    "    print('n = ', n, 'results in \\t', brute_force3(n), ' was calculated in \\t', time.time() - begin_time, ' seconds')\n"
   ]
  },
  {
   "cell_type": "markdown",
   "metadata": {},
   "source": [
    "### Best solution is to recognize that each number in [1,x] can be broken down into a prime factorization, starting with x.  If the prime factorization of (x-1) doesn't include any additional primes needed, then the output number isn't increased.  If additional primes are needed, then add those to the mix.\n",
    "\n",
    "Use sieve from sympy library to generate primes"
   ]
  },
  {
   "cell_type": "code",
   "execution_count": null,
   "metadata": {},
   "outputs": [],
   "source": [
    "'''\n",
    "if for each number between 2 and x, find prime factorization and make sure that factorization\n",
    "is included in the dictionary\n",
    "[2,10]\n",
    "2 ---> record 2\n",
    "3 ---> record 3\n",
    "4 ---> record another 2\n",
    "5 ---> record a 5\n",
    "6 ---> included, record nothing\n",
    "7 ---> record 7\n",
    "8 ---> record another 2\n",
    "9 ---> record another 3\n",
    "10 --> record nothing\n",
    "\n",
    "sum it up 2:3, 3:2, 5:1, 7:1\n",
    "calc: 2^3 * 3^2 * 5 * 7\n",
    "'''"
   ]
  },
  {
   "cell_type": "code",
   "execution_count": 43,
   "metadata": {},
   "outputs": [],
   "source": [
    "from sympy import sieve"
   ]
  },
  {
   "cell_type": "code",
   "execution_count": 137,
   "metadata": {},
   "outputs": [],
   "source": [
    "def prime_method(x):\n",
    "    primes_dict = {each:0 for each in sieve.primerange(1, x+1)}       # create a dictionary of the primes <= x\n",
    "    primes = primes_dict.keys()                                       # create a list to iterate over\n",
    "    for y in range(2, x+1):                                           # for each y in the values from [1,x] \n",
    "        for p in primes:                                              # get the number of times each of the\n",
    "            stop_val = 0                                              # possible primes are in y's prime \n",
    "            count = 0                                                 # factorization\n",
    "            n = y\n",
    "            while n > 1:\n",
    "                if (n % p) == 0:\n",
    "                    count += 1\n",
    "                n /= p\n",
    "                                                                     # if, for example, 3 is in the facorization of\n",
    "            primes_dict[p] = max(count, primes_dict[p])              # y 2 times, but 3 was only used 1 time before\n",
    "                                                                     # increase the item count in the dictionary.\n",
    "    out = 1                                  \n",
    "    for each in [key**value for (key,value) in primes_dict.items()]:\n",
    "        out *= each\n",
    "    return(out)"
   ]
  },
  {
   "cell_type": "code",
   "execution_count": 138,
   "metadata": {},
   "outputs": [
    {
     "name": "stdout",
     "output_type": "stream",
     "text": [
      "n =  2 results in \t 2  was calculated in \t 5.1975250244140625e-05  seconds\n",
      "n =  3 results in \t 6  was calculated in \t 3.790855407714844e-05  seconds\n",
      "n =  4 results in \t 12  was calculated in \t 2.6226043701171875e-05  seconds\n",
      "n =  5 results in \t 60  was calculated in \t 2.5987625122070312e-05  seconds\n",
      "n =  6 results in \t 60  was calculated in \t 3.1948089599609375e-05  seconds\n",
      "n =  7 results in \t 420  was calculated in \t 3.600120544433594e-05  seconds\n",
      "n =  8 results in \t 840  was calculated in \t 6.29425048828125e-05  seconds\n",
      "n =  9 results in \t 2520  was calculated in \t 4.1961669921875e-05  seconds\n",
      "n =  10 results in \t 2520  was calculated in \t 3.504753112792969e-05  seconds\n",
      "n =  11 results in \t 27720  was calculated in \t 4.076957702636719e-05  seconds\n",
      "n =  12 results in \t 27720  was calculated in \t 5.888938903808594e-05  seconds\n",
      "n =  13 results in \t 360360  was calculated in \t 6.604194641113281e-05  seconds\n",
      "n =  14 results in \t 360360  was calculated in \t 7.009506225585938e-05  seconds\n",
      "n =  15 results in \t 360360  was calculated in \t 6.413459777832031e-05  seconds\n",
      "n =  16 results in \t 720720  was calculated in \t 7.796287536621094e-05  seconds\n",
      "n =  17 results in \t 12252240  was calculated in \t 8.797645568847656e-05  seconds\n",
      "n =  18 results in \t 12252240  was calculated in \t 7.486343383789062e-05  seconds\n",
      "n =  19 results in \t 232792560  was calculated in \t 9.179115295410156e-05  seconds\n"
     ]
    }
   ],
   "source": [
    "for k in range(2, 20):\n",
    "    begin_time = time.time()\n",
    "    print('n = ', k, 'results in \\t', prime_method(k), ' was calculated in \\t', time.time() - begin_time, ' seconds')\n"
   ]
  },
  {
   "cell_type": "markdown",
   "metadata": {},
   "source": [
    "### Putting a little math into the problem solving shortens the time substantially.  The function basically runs instantaneously where before it took minutes to run with n = 19"
   ]
  }
 ],
 "metadata": {
  "kernelspec": {
   "display_name": "Python [conda env:anaconda3]",
   "language": "python",
   "name": "conda-env-anaconda3-py"
  },
  "language_info": {
   "codemirror_mode": {
    "name": "ipython",
    "version": 3
   },
   "file_extension": ".py",
   "mimetype": "text/x-python",
   "name": "python",
   "nbconvert_exporter": "python",
   "pygments_lexer": "ipython3",
   "version": "3.6.4"
  }
 },
 "nbformat": 4,
 "nbformat_minor": 2
}
